{
 "cells": [
  {
   "metadata": {
    "ExecuteTime": {
     "end_time": "2024-09-30T17:11:31.536393Z",
     "start_time": "2024-09-30T17:11:24.827430Z"
    }
   },
   "cell_type": "code",
   "source": [
    "from sklearn.metrics import precision_recall_fscore_support\n",
    "from sklearn.preprocessing import MultiLabelBinarizer\n",
    "from datasets import load_dataset\n",
    "from transformers import pipeline\n",
    "import numpy as np"
   ],
   "id": "13f004f0bd4ab4f2",
   "outputs": [],
   "execution_count": 1
  },
  {
   "metadata": {
    "ExecuteTime": {
     "end_time": "2024-09-27T17:30:17.811652Z",
     "start_time": "2024-09-27T17:30:15.541762Z"
    }
   },
   "cell_type": "code",
   "source": [
    "# Load the Multi-EURLEX dataset\n",
    "dataset = load_dataset('multi_eurlex', 'all_languages', split='test')\n",
    "\n",
    "# Define label options (21 categories)\n",
    "label_options = [\n",
    "    \"POLITICS\", \"INTERNATIONAL RELATIONS\", \"EUROPEAN UNION\", \"LAW\", \"ECONOMICS\",\n",
    "    \"TRADE\", \"FINANCE\", \"SOCIAL QUESTIONS\", \"EDUCATION AND COMMUNICATIONS\", \"SCIENCE\",\n",
    "    \"BUSINESS AND COMPETITION\", \"EMPLOYMENT AND WORKING CONDITIONS\", \"TRANSPORT\",\n",
    "    \"ENVIRONMENT\", \"AGRICULTURE, FORESTRY AND FISHERIES\", \"AGRI-FOODSTUFFS\",\n",
    "    \"PRODUCTION, TECHNOLOGY AND RESEARCH\", \"ENERGY\", \"INDUSTRY\", \"GEOGRAPHY\",\n",
    "    \"INTERNATIONAL ORGANISATIONS\"\n",
    "]\n",
    "\n",
    "# Preprocess the dataset and map true labels to category numbers\n",
    "def preprocess_dataset(dataset, label_options):\n",
    "    preprocessed_data = []\n",
    "    for item in dataset:\n",
    "        text = item['text']['en']  # Extract English text\n",
    "        labels = item['labels']    # True label numbers\n",
    "        preprocessed_data.append({\"text\": text, \"labels\": labels})\n",
    "    return preprocessed_data[:150]"
   ],
   "id": "f7aa81384a68909c",
   "outputs": [],
   "execution_count": 45
  },
  {
   "metadata": {
    "ExecuteTime": {
     "end_time": "2024-09-27T17:50:39.406011Z",
     "start_time": "2024-09-27T17:50:38.640285Z"
    }
   },
   "cell_type": "code",
   "source": [
    "# Load a zero-shot classification pipeline using Hugging Face\n",
    "classifier = pipeline(\"zero-shot-classification\", model=\"facebook/bart-large-mnli\")"
   ],
   "id": "8df6f5f974ddc4ee",
   "outputs": [],
   "execution_count": 55
  },
  {
   "metadata": {
    "ExecuteTime": {
     "end_time": "2024-09-27T17:33:22.242573Z",
     "start_time": "2024-09-27T17:33:22.235496Z"
    }
   },
   "cell_type": "code",
   "source": [
    "# Classify text using zero-shot classification with BART-MNLI\n",
    "def classify_text_with_zero_shot(text, label_options, threshold=0.5):\n",
    "    classification = classifier(text, candidate_labels=label_options, multi_label=True)\n",
    "    predicted_labels = [label for label, score in zip(classification['labels'], classification['scores']) if score > threshold]\n",
    "    print(classification['labels'], classification['scores'])\n",
    "    return predicted_labels\n",
    "\n",
    "# Evaluate the classifier on the dataset\n",
    "def evaluate_classifier_on_dataset(dataset, label_options):\n",
    "    all_true_labels = []\n",
    "    all_predicted_labels = []\n",
    "\n",
    "    for entry in dataset:\n",
    "        text = entry['text']\n",
    "        true_labels = entry['labels']\n",
    "\n",
    "        # Get predicted labels from the zero-shot classifier\n",
    "        predicted_labels = classify_text_with_zero_shot(text, label_options)\n",
    "        predicted_label_indices = [label_options.index(label) for label in predicted_labels if label in label_options]\n",
    "        print(predicted_label_indices)\n",
    "\n",
    "        # Store true and predicted labels for comparison\n",
    "        all_true_labels.append(true_labels)\n",
    "        all_predicted_labels.append(predicted_label_indices)\n",
    "\n",
    "    return all_true_labels, all_predicted_labels"
   ],
   "id": "e3824a8ee28e02cc",
   "outputs": [],
   "execution_count": 49
  },
  {
   "metadata": {
    "ExecuteTime": {
     "end_time": "2024-09-27T17:52:39.503778Z",
     "start_time": "2024-09-27T17:52:37.618491Z"
    }
   },
   "cell_type": "code",
   "source": [
    "# Preprocess the dataset\n",
    "preprocessed_data = preprocess_dataset(dataset, label_options)\n",
    "\n",
    "# Run the evaluation on the preprocessed dataset\n",
    "true_labels, predicted_labels = evaluate_classifier_on_dataset(preprocessed_data, label_options)"
   ],
   "id": "cd817c5dac47b901",
   "outputs": [
    {
     "ename": "KeyboardInterrupt",
     "evalue": "",
     "output_type": "error",
     "traceback": [
      "\u001B[1;31m---------------------------------------------------------------------------\u001B[0m",
      "\u001B[1;31mKeyboardInterrupt\u001B[0m                         Traceback (most recent call last)",
      "Cell \u001B[1;32mIn[57], line 2\u001B[0m\n\u001B[0;32m      1\u001B[0m \u001B[38;5;66;03m# Preprocess the dataset\u001B[39;00m\n\u001B[1;32m----> 2\u001B[0m preprocessed_data \u001B[38;5;241m=\u001B[39m \u001B[43mpreprocess_dataset\u001B[49m\u001B[43m(\u001B[49m\u001B[43mdataset\u001B[49m\u001B[43m,\u001B[49m\u001B[43m \u001B[49m\u001B[43mlabel_options\u001B[49m\u001B[43m)\u001B[49m\n\u001B[0;32m      4\u001B[0m \u001B[38;5;66;03m# Run the evaluation on the preprocessed dataset\u001B[39;00m\n\u001B[0;32m      5\u001B[0m true_labels, predicted_labels \u001B[38;5;241m=\u001B[39m evaluate_classifier_on_dataset(preprocessed_data, label_options)\n",
      "Cell \u001B[1;32mIn[45], line 17\u001B[0m, in \u001B[0;36mpreprocess_dataset\u001B[1;34m(dataset, label_options)\u001B[0m\n\u001B[0;32m     15\u001B[0m \u001B[38;5;28;01mdef\u001B[39;00m \u001B[38;5;21mpreprocess_dataset\u001B[39m(dataset, label_options):\n\u001B[0;32m     16\u001B[0m     preprocessed_data \u001B[38;5;241m=\u001B[39m []\n\u001B[1;32m---> 17\u001B[0m \u001B[43m    \u001B[49m\u001B[38;5;28;43;01mfor\u001B[39;49;00m\u001B[43m \u001B[49m\u001B[43mitem\u001B[49m\u001B[43m \u001B[49m\u001B[38;5;129;43;01min\u001B[39;49;00m\u001B[43m \u001B[49m\u001B[43mdataset\u001B[49m\u001B[43m:\u001B[49m\n\u001B[0;32m     18\u001B[0m \u001B[43m        \u001B[49m\u001B[43mtext\u001B[49m\u001B[43m \u001B[49m\u001B[38;5;241;43m=\u001B[39;49m\u001B[43m \u001B[49m\u001B[43mitem\u001B[49m\u001B[43m[\u001B[49m\u001B[38;5;124;43m'\u001B[39;49m\u001B[38;5;124;43mtext\u001B[39;49m\u001B[38;5;124;43m'\u001B[39;49m\u001B[43m]\u001B[49m\u001B[43m[\u001B[49m\u001B[38;5;124;43m'\u001B[39;49m\u001B[38;5;124;43men\u001B[39;49m\u001B[38;5;124;43m'\u001B[39;49m\u001B[43m]\u001B[49m\u001B[43m  \u001B[49m\u001B[38;5;66;43;03m# Extract English text\u001B[39;49;00m\n\u001B[0;32m     19\u001B[0m \u001B[43m        \u001B[49m\u001B[43mlabels\u001B[49m\u001B[43m \u001B[49m\u001B[38;5;241;43m=\u001B[39;49m\u001B[43m \u001B[49m\u001B[43mitem\u001B[49m\u001B[43m[\u001B[49m\u001B[38;5;124;43m'\u001B[39;49m\u001B[38;5;124;43mlabels\u001B[39;49m\u001B[38;5;124;43m'\u001B[39;49m\u001B[43m]\u001B[49m\u001B[43m    \u001B[49m\u001B[38;5;66;43;03m# True label numbers\u001B[39;49;00m\n",
      "File \u001B[1;32m~\\Documents\\GitHub\\Multilingual-Evaluation-of-Generative-AI\\.venv\\Lib\\site-packages\\datasets\\arrow_dataset.py:2369\u001B[0m, in \u001B[0;36mDataset.__iter__\u001B[1;34m(self)\u001B[0m\n\u001B[0;32m   2367\u001B[0m formatter \u001B[38;5;241m=\u001B[39m get_formatter(\u001B[38;5;28mself\u001B[39m\u001B[38;5;241m.\u001B[39m_format_type, features\u001B[38;5;241m=\u001B[39m\u001B[38;5;28mself\u001B[39m\u001B[38;5;241m.\u001B[39m_info\u001B[38;5;241m.\u001B[39mfeatures, \u001B[38;5;241m*\u001B[39m\u001B[38;5;241m*\u001B[39mformat_kwargs)\n\u001B[0;32m   2368\u001B[0m batch_size \u001B[38;5;241m=\u001B[39m config\u001B[38;5;241m.\u001B[39mARROW_READER_BATCH_SIZE_IN_DATASET_ITER\n\u001B[1;32m-> 2369\u001B[0m \u001B[43m\u001B[49m\u001B[38;5;28;43;01mfor\u001B[39;49;00m\u001B[43m \u001B[49m\u001B[43mpa_subtable\u001B[49m\u001B[43m \u001B[49m\u001B[38;5;129;43;01min\u001B[39;49;00m\u001B[43m \u001B[49m\u001B[43mtable_iter\u001B[49m\u001B[43m(\u001B[49m\u001B[38;5;28;43mself\u001B[39;49m\u001B[38;5;241;43m.\u001B[39;49m\u001B[43mdata\u001B[49m\u001B[43m,\u001B[49m\u001B[43m \u001B[49m\u001B[43mbatch_size\u001B[49m\u001B[38;5;241;43m=\u001B[39;49m\u001B[43mbatch_size\u001B[49m\u001B[43m)\u001B[49m\u001B[43m:\u001B[49m\n\u001B[0;32m   2370\u001B[0m \u001B[43m    \u001B[49m\u001B[38;5;28;43;01mfor\u001B[39;49;00m\u001B[43m \u001B[49m\u001B[43mi\u001B[49m\u001B[43m \u001B[49m\u001B[38;5;129;43;01min\u001B[39;49;00m\u001B[43m \u001B[49m\u001B[38;5;28;43mrange\u001B[39;49m\u001B[43m(\u001B[49m\u001B[43mpa_subtable\u001B[49m\u001B[38;5;241;43m.\u001B[39;49m\u001B[43mnum_rows\u001B[49m\u001B[43m)\u001B[49m\u001B[43m:\u001B[49m\n\u001B[0;32m   2371\u001B[0m \u001B[43m        \u001B[49m\u001B[43mpa_subtable_ex\u001B[49m\u001B[43m \u001B[49m\u001B[38;5;241;43m=\u001B[39;49m\u001B[43m \u001B[49m\u001B[43mpa_subtable\u001B[49m\u001B[38;5;241;43m.\u001B[39;49m\u001B[43mslice\u001B[49m\u001B[43m(\u001B[49m\u001B[43mi\u001B[49m\u001B[43m,\u001B[49m\u001B[43m \u001B[49m\u001B[38;5;241;43m1\u001B[39;49m\u001B[43m)\u001B[49m\n",
      "File \u001B[1;32m~\\Documents\\GitHub\\Multilingual-Evaluation-of-Generative-AI\\.venv\\Lib\\site-packages\\datasets\\table.py:2393\u001B[0m, in \u001B[0;36mtable_iter\u001B[1;34m(table, batch_size, drop_last_batch)\u001B[0m\n\u001B[0;32m   2391\u001B[0m \u001B[38;5;28;01melif\u001B[39;00m chunks_buffer_size \u001B[38;5;241m+\u001B[39m \u001B[38;5;28mlen\u001B[39m(chunk) \u001B[38;5;241m==\u001B[39m batch_size:\n\u001B[0;32m   2392\u001B[0m     chunks_buffer\u001B[38;5;241m.\u001B[39mappend(chunk)\n\u001B[1;32m-> 2393\u001B[0m     \u001B[38;5;28;01myield\u001B[39;00m \u001B[43mpa\u001B[49m\u001B[38;5;241;43m.\u001B[39;49m\u001B[43mTable\u001B[49m\u001B[38;5;241;43m.\u001B[39;49m\u001B[43mfrom_batches\u001B[49m\u001B[43m(\u001B[49m\u001B[43mchunks_buffer\u001B[49m\u001B[43m)\u001B[49m\n\u001B[0;32m   2394\u001B[0m     chunks_buffer \u001B[38;5;241m=\u001B[39m []\n\u001B[0;32m   2395\u001B[0m     chunks_buffer_size \u001B[38;5;241m=\u001B[39m \u001B[38;5;241m0\u001B[39m\n",
      "\u001B[1;31mKeyboardInterrupt\u001B[0m: "
     ]
    }
   ],
   "execution_count": 57
  },
  {
   "metadata": {
    "ExecuteTime": {
     "end_time": "2024-09-27T17:52:43.411644Z",
     "start_time": "2024-09-27T17:52:43.377537Z"
    }
   },
   "cell_type": "code",
   "source": [
    "# Convert true and predicted labels to binary format using MultiLabelBinarizer\n",
    "mlb = MultiLabelBinarizer(classes=list(range(len(label_options))))\n",
    "\n",
    "# Binarize the true and predicted labels\n",
    "binary_true = mlb.fit_transform(true_labels)\n",
    "binary_pred = mlb.transform(predicted_labels)\n",
    "\n",
    "# Get indices of labels with non-zero true or predicted samples\n",
    "relevant_labels = np.where((binary_true.sum(axis=0) + binary_pred.sum(axis=0)) > 0)[0]\n",
    "\n",
    "# Filter binary_true and binary_pred to only include relevant labels\n",
    "filtered_binary_true = binary_true[:, relevant_labels]\n",
    "filtered_binary_pred = binary_pred[:, relevant_labels]\n",
    "\n",
    "# Calculate precision, recall, F1-score\n",
    "precision, recall, f1, _ = precision_recall_fscore_support(\n",
    "    filtered_binary_true, filtered_binary_pred, average='macro', zero_division=0\n",
    ")\n",
    "\n",
    "# Print the results\n",
    "print(f\"Precision: {precision}\")\n",
    "print(f\"Recall: {recall}\")\n",
    "print(f\"F1 Score: {f1}\")"
   ],
   "id": "9e861b815b72ff81",
   "outputs": [
    {
     "name": "stdout",
     "output_type": "stream",
     "text": [
      "Precision: 0.01352813852813853\n",
      "Recall: 0.042517006802721094\n",
      "F1 Score: 0.020525451559934318\n"
     ]
    }
   ],
   "execution_count": 58
  },
  {
   "metadata": {},
   "cell_type": "code",
   "outputs": [],
   "execution_count": null,
   "source": [],
   "id": "126492b687a4cdbf"
  }
 ],
 "metadata": {
  "kernelspec": {
   "display_name": "Python 3",
   "language": "python",
   "name": "python3"
  },
  "language_info": {
   "codemirror_mode": {
    "name": "ipython",
    "version": 2
   },
   "file_extension": ".py",
   "mimetype": "text/x-python",
   "name": "python",
   "nbconvert_exporter": "python",
   "pygments_lexer": "ipython2",
   "version": "2.7.6"
  }
 },
 "nbformat": 4,
 "nbformat_minor": 5
}
